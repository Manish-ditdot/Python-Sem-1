{
 "cells": [
  {
   "cell_type": "markdown",
   "metadata": {},
   "source": [
    "# <font color='red'>Refresher. <font>"
   ]
  },
  {
   "cell_type": "markdown",
   "metadata": {},
   "source": [
    "## This is a refresher for the concepts we learned in class so far. We will work through Function Definitions, focussing on giving the function a name, giving inputs, giving defaults to inputs and assigning outputs. "
   ]
  },
  {
   "cell_type": "markdown",
   "metadata": {},
   "source": [
    "Remember that a \"function\" takes inputs from a domain, and produces outputs from a range. For example, the function f(x)=x \\forall x \\in \\mathbb{R}^+ takes inputs only from positive Reals and produces an output that is also a positive real. On the other hand f(x)=\\floor{x} \\forall x \\in \\mathbb{R}^+  takes inputs from real positives and produces integers. See https://en.wikipedia.org/wiki/Floor_and_ceiling_functions "
   ]
  },
  {
   "cell_type": "markdown",
   "metadata": {},
   "source": [
    "Remember that you can name a function anything you want. f(x) is simply a notation that means you have named your function \"f\". Now think about other functions such as sin(x), cosine(x),n!, \\abs{x}"
   ]
  },
  {
   "cell_type": "markdown",
   "metadata": {},
   "source": [
    "# <font color='red'> Tasks for today\n",
    "## [1] import the numpy package as we saw last class\n",
    "\n",
    "## [2] import the plotting package.\n",
    "\n",
    "### We will not use it right away, but I like to have all my function imports on top of my code in one or two boxes. Its a style choice (ask your TAs what this means...)\n"
   ]
  },
  {
   "cell_type": "code",
   "execution_count": 8,
   "metadata": {},
   "outputs": [],
   "source": [
    "# import here.\n",
    "import numpy as np\n",
    "import scipy as sp\n",
    "import matplotlib.pyplot as plt\n"
   ]
  },
  {
   "cell_type": "markdown",
   "metadata": {},
   "source": [
    "# <font color='red'> Tasks for today\n",
    "## [2] Now consider the function that takes as input a real number and outputs the square of the number. Think of a name and define a function to implement this function. Its good to have a descriptive name for the function like square_function or square_of_number...\n"
   ]
  },
  {
   "cell_type": "code",
   "execution_count": 3,
   "metadata": {},
   "outputs": [
    {
     "data": {
      "text/plain": [
       "25"
      ]
     },
     "execution_count": 3,
     "metadata": {},
     "output_type": "execute_result"
    }
   ],
   "source": [
    "# define square function here. \n",
    "\n",
    "def square_function(x):\n",
    "    return x*x\n",
    "\n",
    "square_function(5)"
   ]
  },
  {
   "cell_type": "markdown",
   "metadata": {},
   "source": [
    "# <font color='red'> Tasks for today\n",
    "## [3] Consider the function that takes as input a number x and outputs the absolute value of x. define a function to execute this. Give an appropriate function name. \n"
   ]
  },
  {
   "cell_type": "code",
   "execution_count": 4,
   "metadata": {},
   "outputs": [
    {
     "data": {
      "text/plain": [
       "5"
      ]
     },
     "execution_count": 4,
     "metadata": {},
     "output_type": "execute_result"
    }
   ],
   "source": [
    "# define absolute function here.\n",
    "\n",
    "x=int(input(\"Enrter the Value of x: \"))\n",
    "\n",
    "def Mode1(x):\n",
    "    if x>0:\n",
    "        return x\n",
    "    else:\n",
    "        return x*(-1)\n",
    "Mode1(x)"
   ]
  },
  {
   "cell_type": "markdown",
   "metadata": {},
   "source": []
  },
  {
   "cell_type": "markdown",
   "metadata": {},
   "source": [
    "# <font color='red'> Tasks for today\n",
    "## [4] Consider the function that takes as input a number x and outputs the absolute value of x, but if no input is given the input should be set to a default value of 1. define a function to execute this. Give an appropriate function name. \n"
   ]
  },
  {
   "cell_type": "code",
   "execution_count": 5,
   "metadata": {},
   "outputs": [
    {
     "data": {
      "text/plain": [
       "1"
      ]
     },
     "execution_count": 5,
     "metadata": {},
     "output_type": "execute_result"
    }
   ],
   "source": [
    "# define absolute function with default input here.\n",
    "def Mode2(x=1):\n",
    "   if x>0:\n",
    "        return x\n",
    "   else:\n",
    "        return x*(-1)\n",
    "Mode2()\n"
   ]
  },
  {
   "cell_type": "markdown",
   "metadata": {},
   "source": [
    "# <font color='red'> Tasks for today\n",
    "## [5] Lets now use numpy arrays to do this. Define a function that takes in a number z and evaluates the sine function as the output. Define a function using numpy to do this, and give it an appropriate name.\n"
   ]
  },
  {
   "cell_type": "code",
   "execution_count": 6,
   "metadata": {},
   "outputs": [
    {
     "data": {
      "text/plain": [
       "-0.7568024953079283"
      ]
     },
     "execution_count": 6,
     "metadata": {},
     "output_type": "execute_result"
    }
   ],
   "source": [
    "# define numpy based function here.\n",
    "x=int(input(\"Enrter the Value of x: \"))\n",
    "def sin(x):\n",
    "    z=np.sin(x)\n",
    "    return z\n",
    "sin(x)\n"
   ]
  },
  {
   "cell_type": "markdown",
   "metadata": {},
   "source": [
    "# <font color='red'> Tasks for today\n",
    "## Lets see what differences are there between LISTs, TUPLES and NUMPY. Lets look at lists first. "
   ]
  },
  {
   "cell_type": "code",
   "execution_count": 7,
   "metadata": {},
   "outputs": [],
   "source": [
    "# define absolute function here.\n",
    "\n",
    "lett = ['x', 'y', 'z','w']\n",
    "lett.append(\"xx\")\n"
   ]
  },
  {
   "cell_type": "markdown",
   "metadata": {},
   "source": []
  },
  {
   "cell_type": "code",
   "execution_count": 8,
   "metadata": {},
   "outputs": [
    {
     "data": {
      "text/plain": [
       "['x', 'y', 'z', 'w', 'xx']"
      ]
     },
     "execution_count": 8,
     "metadata": {},
     "output_type": "execute_result"
    }
   ],
   "source": [
    "lett"
   ]
  },
  {
   "cell_type": "markdown",
   "metadata": {},
   "source": [
    "# <font color='red'> Tasks for today\n",
    "## [6] make a list which is empty. Input your name and the name of three neighbors and your TA."
   ]
  },
  {
   "cell_type": "code",
   "execution_count": 9,
   "metadata": {},
   "outputs": [
    {
     "name": "stdout",
     "output_type": "stream",
     "text": [
      "['Manish']\n"
     ]
    }
   ],
   "source": [
    "# define your list here and append it as shown.\n",
    "\n",
    "list=[]\n",
    "list.append(\"Manish\")\n",
    "print(list)\n",
    "\n"
   ]
  },
  {
   "cell_type": "markdown",
   "metadata": {},
   "source": [
    "# <font color='red'> Tasks for today\n",
    "## Lets look at TUPLES now. "
   ]
  },
  {
   "cell_type": "code",
   "execution_count": 10,
   "metadata": {},
   "outputs": [],
   "source": [
    "original_tuple = (1, 2, 3)\n",
    "new_element = 4\n",
    "appended_tuple = original_tuple + (new_element,)"
   ]
  },
  {
   "cell_type": "code",
   "execution_count": 11,
   "metadata": {},
   "outputs": [
    {
     "data": {
      "text/plain": [
       "(1, 2, 3, 4)"
      ]
     },
     "execution_count": 11,
     "metadata": {},
     "output_type": "execute_result"
    }
   ],
   "source": [
    "appended_tuple"
   ]
  },
  {
   "cell_type": "markdown",
   "metadata": {},
   "source": [
    "# <font color='red'> Tasks for today\n",
    "## [7] make a TUPLE which is empty. Input your name and the name of three neighbors and your TA."
   ]
  },
  {
   "cell_type": "code",
   "execution_count": 12,
   "metadata": {},
   "outputs": [
    {
     "name": "stdout",
     "output_type": "stream",
     "text": [
      "('Maharihsi', 'Yugal', 'Manish', 'Midhun')\n"
     ]
    }
   ],
   "source": [
    "# Define your tuple here and append as discussed\n",
    "tuple1=()\n",
    "tuple2=(\"Maharihsi\",\"Yugal\",\"Manish\",\"Midhun\")\n",
    "new_tuple= tuple1 + tuple2 \n",
    "print(new_tuple)"
   ]
  },
  {
   "cell_type": "markdown",
   "metadata": {},
   "source": [
    "# <font color='red'> Tasks for today\n",
    "## [8] Now do the same task with numpy arrays."
   ]
  },
  {
   "cell_type": "code",
   "execution_count": 13,
   "metadata": {},
   "outputs": [
    {
     "name": "stdout",
     "output_type": "stream",
     "text": [
      "['Maharihsi' 'Yugal' 'Manish' 'Midhun']\n"
     ]
    }
   ],
   "source": [
    "# Numpy function here\n",
    "\n",
    "array1=np.array([\"Maharihsi\",\"Yugal\",\"Manish\",\"Midhun\"])\n",
    "print(array1)\n"
   ]
  },
  {
   "cell_type": "markdown",
   "metadata": {},
   "source": [
    "# <font color='red'> Lets do LOOPS in python<font>"
   ]
  },
  {
   "cell_type": "markdown",
   "metadata": {},
   "source": [
    "## Consider the equation which defines a time discritized differential equation called a RICCATI Equation\n",
    "# $x_{n+1}=x_n+\\delta t (c+x_n^2)$\n",
    "### Here $\\delta t$ and $c$ are parameters you can set. Can both be as large as you wish? As small? "
   ]
  },
  {
   "cell_type": "markdown",
   "metadata": {},
   "source": [
    "# <font color='red'> Tasks for today\n",
    "## [9] Define this function in NUMPY arrays\n"
   ]
  },
  {
   "cell_type": "code",
   "execution_count": 15,
   "metadata": {},
   "outputs": [
    {
     "name": "stderr",
     "output_type": "stream",
     "text": [
      "/var/folders/wq/qy2mxf5n0xz3xq9pw609dfgw0000gp/T/ipykernel_1341/1444903474.py:10: RuntimeWarning: overflow encountered in square\n",
      "  x[i+1]=x[i] + del_t*(1+np.square(x[i]))\n"
     ]
    },
    {
     "data": {
      "text/plain": [
       "array([1.00000000e+000, 1.20000000e+000, 1.44400000e+000, 1.75251360e+000,\n",
       "       2.15964399e+000, 2.72605021e+000, 3.56918518e+000, 4.94309347e+000,\n",
       "       7.48651078e+000, 1.31912951e+001, 3.06923219e+001, 1.24994184e+002,\n",
       "       1.68744879e+003, 2.86435890e+005, 8.20483836e+009, 6.73193726e+018,\n",
       "       4.53189793e+036, 2.05380988e+072, 4.21813503e+143, 1.77926631e+286,\n",
       "                   inf,             inf,             inf,             inf,\n",
       "                   inf,             inf,             inf,             inf,\n",
       "                   inf,             inf,             inf,             inf,\n",
       "                   inf,             inf,             inf,             inf,\n",
       "                   inf,             inf,             inf,             inf,\n",
       "                   inf,             inf,             inf,             inf,\n",
       "                   inf,             inf,             inf,             inf,\n",
       "                   inf,             inf,             inf,             inf,\n",
       "                   inf,             inf,             inf,             inf,\n",
       "                   inf,             inf,             inf,             inf,\n",
       "                   inf,             inf,             inf,             inf,\n",
       "                   inf,             inf,             inf,             inf,\n",
       "                   inf,             inf,             inf,             inf,\n",
       "                   inf,             inf,             inf,             inf,\n",
       "                   inf,             inf,             inf,             inf,\n",
       "                   inf,             inf,             inf,             inf,\n",
       "                   inf,             inf,             inf,             inf,\n",
       "                   inf,             inf,             inf,             inf,\n",
       "                   inf,             inf,             inf,             inf,\n",
       "                   inf,             inf,             inf,             inf])"
      ]
     },
     "execution_count": 15,
     "metadata": {},
     "output_type": "execute_result"
    }
   ],
   "source": [
    "# function here\n",
    "\n",
    "n=int(input(\"Enter your range: \"))\n",
    "x0=int(input(\"Enter your first element: \"))\n",
    "del_t=float(input(\"Enter value of Del_t: \"))\n",
    "def riccati(x0,n,del_t):\n",
    "   x=np.zeros(n)\n",
    "   x[0]=x0\n",
    "   for i in range(0,n-1):\n",
    "      x[i+1]=x[i] + del_t*(1+np.square(x[i]))\n",
    "   return x\n",
    "riccati(x0,n,del_t)\n"
   ]
  },
  {
   "cell_type": "markdown",
   "metadata": {},
   "source": [
    "# <font color='red'> Tasks for today\n",
    "## This is how we write a simple loop to repeat a task. Here some function is being repeatedly evaluated 100 times. Something is missing here (numpy initialization)\n"
   ]
  },
  {
   "cell_type": "code",
   "execution_count": 9,
   "metadata": {},
   "outputs": [
    {
     "name": "stdout",
     "output_type": "stream",
     "text": [
      "[0.00000000e+00 4.02259358e-03 1.60256493e-02 3.58160335e-02\n",
      " 6.30753115e-02 9.73648712e-02 1.38132981e-01 1.84723666e-01\n",
      " 2.36387266e-01 2.92292493e-01 3.51539812e-01 4.13175911e-01\n",
      " 4.76209042e-01 5.39624978e-01 6.02403334e-01 6.63533982e-01\n",
      " 7.22033306e-01 7.76960032e-01 8.27430367e-01 8.72632225e-01\n",
      " 9.11838291e-01 9.44417724e-01 9.69846310e-01 9.87714893e-01\n",
      " 9.97735961e-01 9.99748271e-01 9.93719444e-01 9.79746487e-01\n",
      " 9.58054229e-01 9.28991707e-01 8.93026547e-01 8.50737444e-01\n",
      " 8.02804844e-01 7.50000000e-01 6.93172563e-01 6.33236907e-01\n",
      " 5.71157419e-01 5.07932982e-01 4.44580900e-01 3.82120532e-01\n",
      " 3.21556889e-01 2.63864463e-01 2.09971545e-01 1.60745294e-01\n",
      " 1.16977778e-01 7.93732336e-02 4.85367309e-02 2.49644411e-02\n",
      " 9.03565137e-03 1.00666176e-03 1.00666176e-03 9.03565137e-03\n",
      " 2.49644411e-02 4.85367309e-02 7.93732336e-02 1.16977778e-01\n",
      " 1.60745294e-01 2.09971545e-01 2.63864463e-01 3.21556889e-01\n",
      " 3.82120532e-01 4.44580900e-01 5.07932982e-01 5.71157419e-01\n",
      " 6.33236907e-01 6.93172563e-01 7.50000000e-01 8.02804844e-01\n",
      " 8.50737444e-01 8.93026547e-01 9.28991707e-01 9.58054229e-01\n",
      " 9.79746487e-01 9.93719444e-01 9.99748271e-01 9.97735961e-01\n",
      " 9.87714893e-01 9.69846310e-01 9.44417724e-01 9.11838291e-01\n",
      " 8.72632225e-01 8.27430367e-01 7.76960032e-01 7.22033306e-01\n",
      " 6.63533982e-01 6.02403334e-01 5.39624978e-01 4.76209042e-01\n",
      " 4.13175911e-01 3.51539812e-01 2.92292493e-01 2.36387266e-01\n",
      " 1.84723666e-01 1.38132981e-01 9.73648712e-02 6.30753115e-02\n",
      " 3.58160335e-02 1.60256493e-02 4.02259358e-03 4.13769353e-31]\n"
     ]
    }
   ],
   "source": [
    "T=np.arange(100)\n",
    "x=np.zeros(100)\n",
    "for i in T:\n",
    "    x[i]=(np.sin((2*np.pi*i/99)))**2\n",
    "print(x)\n"
   ]
  },
  {
   "cell_type": "markdown",
   "metadata": {},
   "source": [
    "# <font color='red'> Tasks for today\n",
    "## [10] Plot and check that the function is doing what you think it is doing.\n"
   ]
  },
  {
   "cell_type": "code",
   "execution_count": null,
   "metadata": {},
   "outputs": [
    {
     "data": {
      "text/plain": [
       "[<matplotlib.lines.Line2D at 0x111ea3950>]"
      ]
     },
     "execution_count": 9,
     "metadata": {},
     "output_type": "execute_result"
    },
    {
     "data": {
      "image/png": "[encoded data removed]",
      "text/plain": [
       "<Figure size 640x480 with 1 Axes>"
      ]
     },
     "metadata": {},
     "output_type": "display_data"
    }
   ],
   "source": [
    "# Plot here\n",
    "plt.plot(T,x)"
   ]
  },
  {
   "cell_type": "markdown",
   "metadata": {},
   "source": [
    "# <font color='red'> Tasks for today\n",
    "## [11] DEVICE A TEST and talk to your TA to discuss how you will check that your code is working well... (hint: perform checks on simple functions that can be inspected visually for correctness...)\n"
   ]
  },
  {
   "cell_type": "code",
   "execution_count": 7,
   "metadata": {},
   "outputs": [
    {
     "ename": "NameError",
     "evalue": "name 'np' is not defined",
     "output_type": "error",
     "traceback": [
      "\u001b[0;31m---------------------------------------------------------------------------\u001b[0m",
      "\u001b[0;31mNameError\u001b[0m                                 Traceback (most recent call last)",
      "Cell \u001b[0;32mIn[7], line 3\u001b[0m\n\u001b[1;32m      1\u001b[0m \u001b[38;5;66;03m# # Test implementation here...including visual check.\u001b[39;00m\n\u001b[0;32m----> 3\u001b[0m T\u001b[38;5;241m=\u001b[39m\u001b[43mnp\u001b[49m\u001b[38;5;241m.\u001b[39marange(\u001b[38;5;241m0\u001b[39m,\u001b[38;5;241m50\u001b[39m,\u001b[38;5;241m0.1\u001b[39m)\n\u001b[1;32m      4\u001b[0m x\u001b[38;5;241m=\u001b[39mnp\u001b[38;5;241m.\u001b[39msin(T)\n\u001b[1;32m      5\u001b[0m plt\u001b[38;5;241m.\u001b[39mplot(T,x)\n",
      "\u001b[0;31mNameError\u001b[0m: name 'np' is not defined"
     ]
    }
   ],
   "source": [
    "# # Test implementation here...including visual check.\n",
    "\n",
    "T=np.arange(0,50,0.1)\n",
    "x=np.sin(T)\n",
    "plt.plot(T,x)\n",
    "\n",
    "    \n"
   ]
  },
  {
   "cell_type": "markdown",
   "metadata": {},
   "source": [
    "# <font color='red'> Tasks for today\n",
    "## [12] Loop over x_n and plot, starting from the origin, $c=1$ and several values of small $\\delta t$, namely $\\delta t=10^{-1}$ and $\\delta t=10^{-2}$"
   ]
  },
  {
   "cell_type": "code",
   "execution_count": null,
   "metadata": {},
   "outputs": [
    {
     "name": "stderr",
     "output_type": "stream",
     "text": [
      "/var/folders/wq/qy2mxf5n0xz3xq9pw609dfgw0000gp/T/ipykernel_12471/1444903474.py:10: RuntimeWarning: overflow encountered in square\n",
      "  x[i+1]=x[i] + del_t*(1+np.square(x[i]))\n"
     ]
    },
    {
     "data": {
      "text/plain": [
       "[<matplotlib.lines.Line2D at 0x12a6194f0>]"
      ]
     },
     "execution_count": 5,
     "metadata": {},
     "output_type": "execute_result"
    },
    {
     "data": {
      "image/png": "[encoded data removed]",
      "text/plain": [
       "<Figure size 640x480 with 2 Axes>"
      ]
     },
     "metadata": {},
     "output_type": "display_data"
    }
   ],
   "source": [
    "# Loop here.\n",
    "n=int(input(\"Enter your range: \"))\n",
    "x0=int(input(\"Enter your first element: \"))\n",
    "del_t=float(input(\"Enter value of Del_t: \"))\n",
    "z=np.arange(100)\n",
    "plt.subplot(1,2,1)\n",
    "plt.plot(z,riccati(x0,n,del_t))\n",
    "x01=int(input(\"Enter your first element: \"))\n",
    "del_t1=float(input(\"Enter value of Del_t: \"))\n",
    "plt.subplot(1,2,2)\n",
    "plt.plot(z,riccati(x01,n,del_t1))\n"
   ]
  }
 ],
 "metadata": {
  "kernelspec": {
   "display_name": "Python 3",
   "language": "python",
   "name": "python3"
  },
  "language_info": {
   "codemirror_mode": {
    "name": "ipython",
    "version": 3
   },
   "file_extension": ".py",
   "mimetype": "text/x-python",
   "name": "python",
   "nbconvert_exporter": "python",
   "pygments_lexer": "ipython3",
   "version": "3.12.3"
  }
 },
 "nbformat": 4,
 "nbformat_minor": 2
}
