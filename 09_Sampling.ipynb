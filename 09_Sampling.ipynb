{
 "cells": [
  {
   "cell_type": "markdown",
   "metadata": {},
   "source": [
    "### [1] Consider the well known Gaussian Integral $I=\\int_{-\\infty}^{\\infty}dx e^{-x^2}=\\sqrt{\\pi}$. Compute this using random sampling."
   ]
  },
  {
   "cell_type": "markdown",
   "metadata": {},
   "source": [
    "### [2] Now consider $I=\\int dx dy dz =\\frac{4\\pi R^3}{3}$, computed in a ball of radius $R$. Convert this integral to polar coordinates $(r,\\theta,\\phi)$. Try to compute the integral by random sampling."
   ]
  },
  {
   "cell_type": "markdown",
   "metadata": {},
   "source": []
  },
  {
   "cell_type": "code",
   "execution_count": 20,
   "metadata": {},
   "outputs": [],
   "source": [
    "import numpy as np \n",
    "from matplotlib import pyplot as plt \n",
    "from scipy.linalg import expm "
   ]
  },
  {
   "cell_type": "markdown",
   "metadata": {},
   "source": [
    "## **Question 1**"
   ]
  },
  {
   "cell_type": "code",
   "execution_count": 125,
   "metadata": {},
   "outputs": [
    {
     "data": {
      "text/plain": [
       "5.99860252799838"
      ]
     },
     "execution_count": 125,
     "metadata": {},
     "output_type": "execute_result"
    }
   ],
   "source": [
    "#Using Normal Distribution\n",
    "\n",
    "z=np.random.normal(-6,6,10**6)\n",
    "I=[]\n",
    "p=[]\n",
    "f=[]\n",
    "for i in range (10**6):\n",
    "    p.append((1/np.sqrt(2*np.pi))*np.exp(-z[i]**2/2))\n",
    "    f.append(np.exp(-z[i]**2))\n",
    "    I.append(f[i]/p[i])\n",
    "c=np.sum(I)/(10**6)\n",
    "print(\"Value of Integral is: \",c)\n",
    "print(\"Value of pi is: \",c**2)\n",
    "\n",
    "z=np.std(z)\n",
    "z\n"
   ]
  },
  {
   "cell_type": "code",
   "execution_count": 136,
   "metadata": {},
   "outputs": [
    {
     "name": "stdout",
     "output_type": "stream",
     "text": [
      "Value of Integral is:  1.7725351159314553\n",
      "Value of pi is:  3.141880737210138\n"
     ]
    }
   ],
   "source": [
    "#Using Uniform Distribution\n",
    "\n",
    "z=np.random.uniform(-4,4,10**6)\n",
    "n_bins=1000\n",
    "I=[]\n",
    "f=[]\n",
    "p=[]\n",
    "# h,n_bin,patches=plt.hist(z,n_bins,facecolor='blue')\n",
    "for i in range (10**6):\n",
    "    p.append(1/8)\n",
    "    f.append(np.exp(-z[i]**2))\n",
    "    I.append(f[i]/p[i])\n",
    "c=np.sum(I)/(10**6)\n",
    "print(\"Value of Integral is: \",c)\n",
    "print(\"Value of pi is: \",c**2)"
   ]
  },
  {
   "cell_type": "markdown",
   "metadata": {},
   "source": [
    "## **Question 2**"
   ]
  },
  {
   "cell_type": "code",
   "execution_count": 131,
   "metadata": {},
   "outputs": [
    {
     "name": "stdout",
     "output_type": "stream",
     "text": [
      "Value of Integral is:  4.1887742034052815\n"
     ]
    }
   ],
   "source": [
    "r=np.random.uniform(0,1,10**6)\n",
    "theta=np.random.uniform(0,np.pi,10**6)\n",
    "I=[]\n",
    "z=[]\n",
    "for i in range (10**6):\n",
    "    z.append(r[i]**2*np.sin(theta[i])*2*(np.pi)**2)\n",
    "    I.append(z[i])\n",
    "c=sum(I)/10**6\n",
    "print(\"Value of Integral is: \",c)\n",
    "\n",
    "\n"
   ]
  }
 ],
 "metadata": {
  "kernelspec": {
   "display_name": "Python 3",
   "language": "python",
   "name": "python3"
  },
  "language_info": {
   "codemirror_mode": {
    "name": "ipython",
    "version": 3
   },
   "file_extension": ".py",
   "mimetype": "text/x-python",
   "name": "python",
   "nbconvert_exporter": "python",
   "pygments_lexer": "ipython3",
   "version": "3.12.3"
  }
 },
 "nbformat": 4,
 "nbformat_minor": 2
}
